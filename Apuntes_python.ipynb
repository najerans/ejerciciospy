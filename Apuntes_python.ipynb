{
  "cells": [
    {
      "cell_type": "markdown",
      "metadata": {
        "id": "view-in-github",
        "colab_type": "text"
      },
      "source": [
        "<a href=\"https://colab.research.google.com/github/najerans/ejerciciospy/blob/main/Apuntes_python.ipynb\" target=\"_parent\"><img src=\"https://colab.research.google.com/assets/colab-badge.svg\" alt=\"Open In Colab\"/></a>"
      ]
    },
    {
      "cell_type": "code",
      "execution_count": null,
      "metadata": {
        "id": "c1ASi2UF_izS"
      },
      "outputs": [],
      "source": []
    },
    {
      "cell_type": "markdown",
      "metadata": {
        "id": "xRvGh_kD1l4y"
      },
      "source": [
        "### **Listas **\n"
      ]
    },
    {
      "cell_type": "markdown",
      "metadata": {
        "id": "0c96t5_EwZWs"
      },
      "source": []
    },
    {
      "cell_type": "code",
      "execution_count": null,
      "metadata": {
        "id": "DNvedsiE1nnk"
      },
      "outputs": [],
      "source": [
        "lista_cursos = ['Python', 'Django', 'Flask', 'Ruby', 'Java']\n",
        "\n",
        "primer_curso = lista_cursos [1]\n",
        "print ('imprime elemento de indice 1')\n",
        "print(primer_curso)\n",
        "\n",
        "#actualizar un elemento\n",
        "\n",
        "lista_cursos [4] = 'Rust'\n",
        "print ('actualizar un elemento:')\n",
        "print(lista_cursos)\n",
        "\n",
        "#sublistas\n",
        "# [start:end]\n",
        "\n",
        "sub_lista = lista_cursos [0:3]\n",
        "print ('sublistas:')\n",
        "print (sub_lista)\n",
        "\n",
        "#ultimos elementos de la lista\n",
        "# [start:] OBTENEMOS ULTIMOS ELEMENTOS\n",
        "# [:end] OBTENEMOS PRIMEROS ELEMENTOS\n",
        "# [start:end:skip]\n",
        "\n",
        "# LISTA CON SALTOS ( 2 EN 2)\n",
        "sublist = lista_cursos[1:5:2]\n",
        "print (\"sublista con saltos\")\n",
        "print (sublist)\n",
        "\n"
      ]
    },
    {
      "cell_type": "markdown",
      "metadata": {
        "id": "LW6dpBJ_5Zck"
      },
      "source": [
        "\n",
        "### *Modificar Listas*\n"
      ]
    },
    {
      "cell_type": "code",
      "execution_count": null,
      "metadata": {
        "id": "bv-pGusK5hYp"
      },
      "outputs": [],
      "source": [
        "lista_cursos = ['Python', 'Django', 'Flask', 'Ruby', 'Java']\n",
        "lista_cursos2 = ['Docker', 'Azure', 'C++']\n",
        "#print (len(lista_cursos)) # Metodo len -- longitud de la lista\n",
        "\n",
        "lista_cursos.append('Mongo DB') # Metodo append() añade al final de la lista\n",
        "lista_cursos.append('C#')\n",
        "\n",
        "#print (len(lista_cursos))\n",
        "#print (lista_cursos)\n",
        "\n",
        "lista_cursos.insert(1,'JavaScript') # Metodo insert dos parametros, incide y elemento a insertar\n",
        "#print (lista_cursos)\n",
        "\n",
        "lista_cursos.extend(lista_cursos2) # Metodo extend -- extender lista, parametro lista a añadir (lista2)\n",
        "print (lista_cursos)\n",
        "\n",
        "lista_cursos.remove('Django')# Metodo remove -- elimina elemento de la lista, parametro cadena a eliminar\n",
        "print (lista_cursos)\n",
        "\n",
        "del lista_cursos [-1] # Palabra reservada del -- elimina un elemento por indices\n",
        "print (lista_cursos)\n",
        "\n",
        "lista_cursos.clear() # Limpiar lista, metodo clear\n",
        "print (lista_cursos)\n"
      ]
    },
    {
      "cell_type": "markdown",
      "metadata": {
        "id": "o_43_Y5U8ahZ"
      },
      "source": [
        "### ***Metodos de listas***"
      ]
    },
    {
      "cell_type": "code",
      "execution_count": null,
      "metadata": {
        "id": "gFS5_4V28neS"
      },
      "outputs": [],
      "source": [
        "\n",
        "lista = [8,90,1,5,44,132,600,3,4]\n",
        "\n",
        "lista.sort() # Metodo sort, ordena por default de menor a mayor\n",
        "print (lista)\n",
        "\n",
        "lista.sort(reverse=True) # Parametro reverse ordena de mayor a menor\n",
        "print (lista)\n",
        "\n",
        "#imprimir numero menor y numero mayor\n",
        "\n",
        "lista.sort()\n",
        "print (lista[0]) #max\n",
        "print (lista[-1]) #min\n",
        "\n",
        "\n",
        "# Usando max y min\n",
        "\n",
        "print ('Usando MIN:',min(lista))\n",
        "print ('Usando MAX:',max(lista))\n",
        "\n",
        "\n",
        "# Buscando elementos, metodo IN -- NOT IN\n",
        "\n",
        "print(10 not in lista) # 10 no se encuentra en la lista = TRUE\n",
        "print(5 in lista) # 5 se encuentra en la lista = TRUE\n",
        "\n",
        "\n"
      ]
    },
    {
      "cell_type": "markdown",
      "metadata": {
        "id": "nAZ3HYeT_SFc"
      },
      "source": [
        "### **INDEX**"
      ]
    },
    {
      "cell_type": "code",
      "execution_count": null,
      "metadata": {
        "id": "rVzodOLD_U36"
      },
      "outputs": [],
      "source": [
        "lista = [8,90,1,5,44,132,600,3,4]\n",
        "\n",
        "print(5 in lista) # 5 se encuentra en la lista = TRUE\n",
        "\n",
        "index = lista.index(5) # Retorna el PRIMER indice encontrado\n",
        "print(index)"
      ]
    },
    {
      "cell_type": "markdown",
      "metadata": {
        "id": "1pxQjipqATkt"
      },
      "source": [
        "### **MATRICES**"
      ]
    },
    {
      "cell_type": "code",
      "execution_count": null,
      "metadata": {
        "colab": {
          "base_uri": "https://localhost:8080/"
        },
        "id": "doqUt6cHAYLM",
        "outputId": "ab6a2602-e911-4abd-aa6b-d98e4cb4433f"
      },
      "outputs": [
        {
          "name": "stdout",
          "output_type": "stream",
          "text": [
            "[[10, 20, 30, 40], [30, 40, 50, 60]]\n",
            "10\n",
            "60\n"
          ]
        }
      ],
      "source": [
        "columna_a = [10,20,30,40]\n",
        "columna_b = [30,40,50,60]\n",
        "\n",
        "matriz = [columna_a, columna_b] # Matriz de 2 x 2\n",
        "\n",
        "print (matriz)\n",
        "\n",
        "print (matriz[0][0])\n",
        "print (matriz[1][3])\n",
        "\n"
      ]
    },
    {
      "cell_type": "markdown",
      "metadata": {
        "id": "mNXT34GUBYlP"
      },
      "source": [
        " Apuntes de python\n",
        "\n",
        "\n",
        "\n",
        "*   Comentarios"
      ]
    },
    {
      "cell_type": "code",
      "execution_count": null,
      "metadata": {
        "id": "gjzldXqNCf_V"
      },
      "outputs": [],
      "source": [
        "#comentario de una sola linea\n",
        "\n",
        "\"\"\"comentario\n",
        "multilinea\"\"\""
      ]
    },
    {
      "cell_type": "markdown",
      "metadata": {
        "id": "u0uSuVLVC0Jz"
      },
      "source": [
        "Manejo de cadenas:\n",
        "\n",
        "```\n",
        "# Esto tiene formato de código\n",
        "```\n",
        "\n"
      ]
    },
    {
      "cell_type": "code",
      "execution_count": null,
      "metadata": {
        "id": "3cRpwBGvC6SF"
      },
      "outputs": [],
      "source": [
        "#String\n",
        "titulo_curso = 'Curso python'\n",
        "print(titulo_curso)\n",
        "nombre_completo = \"Norel Sánchez Nájera\"\n",
        "print(nombre_completo)\n",
        "mensaje = '\"Mensaje\"'\n",
        "print(mensaje)"
      ]
    },
    {
      "cell_type": "markdown",
      "metadata": {
        "id": "kISGZuuPDnh6"
      },
      "source": [
        "Ejercicios operadores matematicos"
      ]
    },
    {
      "cell_type": "code",
      "execution_count": null,
      "metadata": {
        "colab": {
          "base_uri": "https://localhost:8080/"
        },
        "id": "DwbWl42bEZjb",
        "outputId": "002e090e-9757-40d9-8fa5-04b46223cfd6"
      },
      "outputs": [
        {
          "name": "stdout",
          "output_type": "stream",
          "text": [
            "total 46\n"
          ]
        }
      ],
      "source": [
        "var_1 = 12\n",
        "var_2 = 34\n",
        "total = var_1 + var_2\n",
        "print(\"total\", total)"
      ]
    },
    {
      "cell_type": "markdown",
      "source": [
        "Listas y Tuplas"
      ],
      "metadata": {
        "id": "qt87T0XNxZ0t"
      }
    },
    {
      "cell_type": "code",
      "execution_count": null,
      "metadata": {
        "id": "CIoWuiXJFUAW"
      },
      "outputs": [],
      "source": [
        "cursos = ['Pyhton', 'Django', 'Flask']\n",
        "\n",
        "#tuple genera tupla a partir de la lista\n",
        "cursos_tupla = tuple(cursos)\n",
        "print(type(cursos_tupla))\n",
        "print(cursos_tupla)\n",
        "\n",
        "niveles = ('Basico', 'Intermedio', 'Avanzado')\n",
        "\n",
        "#list genera lista a partir de una tupla\n",
        "niveles_lista = list(niveles)\n",
        "print(niveles_lista)\n"
      ]
    },
    {
      "cell_type": "markdown",
      "source": [],
      "metadata": {
        "id": "XBPvfjhc099z"
      }
    }
  ],
  "metadata": {
    "colab": {
      "provenance": [],
      "include_colab_link": true
    },
    "kernelspec": {
      "display_name": "Python 3",
      "name": "python3"
    },
    "language_info": {
      "name": "python"
    }
  },
  "nbformat": 4,
  "nbformat_minor": 0
}